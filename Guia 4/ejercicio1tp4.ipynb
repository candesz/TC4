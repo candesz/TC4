{
 "cells": [
  {
   "cell_type": "code",
   "execution_count": 83,
   "metadata": {
    "collapsed": true
   },
   "outputs": [],
   "source": [
    "import matplotlib.pylab as plt\n",
    "%matplotlib inline\n",
    "import networkx as nx"
   ]
  },
  {
   "cell_type": "code",
   "execution_count": 1,
   "metadata": {
    "collapsed": true
   },
   "outputs": [],
   "source": [
    "''' Definimos la funcion para leer el archivo geneX '''\n",
    "import re\n",
    "def ldata(archive):\n",
    "    f=open(archive)\n",
    "    data=[]\n",
    "    for line in f:\n",
    "        line = re.sub('[\"\\n]', '', line)\n",
    "        col=line.split(',')\n",
    "        data.append(col)\n",
    "    return data"
   ]
  },
  {
   "cell_type": "code",
   "execution_count": 21,
   "metadata": {},
   "outputs": [
    {
     "data": {
      "text/plain": [
       "['AT1G01060',\n",
       " '10.3176866362518',\n",
       " '7.65600446413793',\n",
       " '3.39993568220103',\n",
       " '1.30679489632012',\n",
       " '5.35534800540555',\n",
       " '9.00846891441324',\n",
       " '9.88520407950861',\n",
       " '7.18594496152195',\n",
       " '3.05035783179963',\n",
       " '1.70774513716189',\n",
       " '5.18535879993122',\n",
       " '9.02459455955993']"
      ]
     },
     "execution_count": 21,
     "metadata": {},
     "output_type": "execute_result"
    }
   ],
   "source": [
    "geneX=ldata('geneX.csv')\n",
    "geneX[1]"
   ]
  },
  {
   "cell_type": "code",
   "execution_count": 17,
   "metadata": {},
   "outputs": [],
   "source": [
    "import numpy as np\n",
    "valores_genes=np.zeros((500, 12))\n",
    "nombre_genes=[]\n",
    "for j in range(1,501):\n",
    "    nombre_genes.append(geneX[j][0])\n",
    "    for i in range(1,13):\n",
    "        valores_genes[j-1,i-1]=float(geneX[j][i])"
   ]
  },
  {
   "cell_type": "code",
   "execution_count": 73,
   "metadata": {},
   "outputs": [
    {
     "data": {
      "text/plain": [
       "1.0"
      ]
     },
     "execution_count": 73,
     "metadata": {},
     "output_type": "execute_result"
    }
   ],
   "source": []
  },
  {
   "cell_type": "code",
   "execution_count": 68,
   "metadata": {
    "collapsed": true
   },
   "outputs": [],
   "source": [
    "def similaridad(x,y):\n",
    "    x_medio=float(sum(x))/len(x)\n",
    "    y_medio=float(sum(y))/len(y)\n",
    "    x_y=0\n",
    "    desv_x=0\n",
    "    desv_y=0\n",
    "    for i in range(len(x)):\n",
    "        x_y+=(x[i]-x_medio)*(y[i]-y_medio)\n",
    "        desv_x+=(x[i]-x_medio)**2\n",
    "        desv_y+=(y[i]-y_medio)**2\n",
    "    desv_x_y=desv_x*desv_y\n",
    "    return (1+x_y/np.sqrt(desv_x_y))/2"
   ]
  },
  {
   "cell_type": "code",
   "execution_count": 77,
   "metadata": {},
   "outputs": [],
   "source": [
    "Sim=np.zeros((500,500))\n",
    "for i in range(500):\n",
    "    for j in range(0,i):\n",
    "        Sim[i][j]=similaridad(valores_genes[i],valores_genes[j])\n",
    "        Sim[j][i]=similaridad(valores_genes[i],valores_genes[j])"
   ]
  },
  {
   "cell_type": "code",
   "execution_count": 78,
   "metadata": {},
   "outputs": [],
   "source": [
    "enla=[]\n",
    "for i in range(500):\n",
    "    for j in range(0,i):\n",
    "        if Sim[i][j]>=0.95:\n",
    "            enla.append([nombre_genes[i],nombre_genes[j]])"
   ]
  },
  {
   "cell_type": "code",
   "execution_count": 84,
   "metadata": {},
   "outputs": [],
   "source": [
    "G=nx.Graph()\n",
    "G.add_edges_from(enla)"
   ]
  },
  {
   "cell_type": "code",
   "execution_count": 91,
   "metadata": {
    "collapsed": true
   },
   "outputs": [],
   "source": [
    "k=[]\n",
    "for i in G.nodes():\n",
    "    k.append(G.degree(i))"
   ]
  },
  {
   "cell_type": "code",
   "execution_count": 93,
   "metadata": {},
   "outputs": [
    {
     "data": {
      "image/png": "[encoded data removed]",
      "text/plain": [
       "<matplotlib.figure.Figure at 0x7fe22d1df908>"
      ]
     },
     "metadata": {},
     "output_type": "display_data"
    }
   ],
   "source": [
    "nx.draw(G, with_labels=False, font_weight='bold',node_size=[10*i for i in k])"
   ]
  }
 ],
 "metadata": {
  "kernelspec": {
   "display_name": "Python 3",
   "language": "python",
   "name": "python3"
  },
  "language_info": {
   "codemirror_mode": {
    "name": "ipython",
    "version": 3
   },
   "file_extension": ".py",
   "mimetype": "text/x-python",
   "name": "python",
   "nbconvert_exporter": "python",
   "pygments_lexer": "ipython3",
   "version": "3.5.2"
  }
 },
 "nbformat": 4,
 "nbformat_minor": 2
}
